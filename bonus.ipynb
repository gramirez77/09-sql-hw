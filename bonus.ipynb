{
 "cells": [
  {
   "cell_type": "markdown",
   "metadata": {},
   "source": [
    "# SQL Homework | Week 9 | Bonus Portion\n",
    "\n",
    "Bonus portion consists of visualizing data from the Pewlett Hackard employees database built in PostgreSQL using Pandas, SQLAlchemy and matplotlib."
   ]
  },
  {
   "cell_type": "markdown",
   "metadata": {},
   "source": [
    "## Step 1: Importing data from PostgreSQL into Pandas\n",
    "\n",
    "To do this we will use the SQLAlchemy library. Database connection parameters including password, user, port, and database name are all stored in a local file (config.py) that is not part of the github repository (ignored by `git` thanks to the `.gitignore` file) to avoid credentials exposure."
   ]
  },
  {
   "cell_type": "code",
   "execution_count": 1,
   "metadata": {},
   "outputs": [
    {
     "name": "stdout",
     "output_type": "stream",
     "text": [
      "Requirement already satisfied: pg8000 in /anaconda3/envs/PythonData/lib/python3.6/site-packages (1.13.2)\n",
      "Requirement already satisfied: scramp==1.1.0 in /anaconda3/envs/PythonData/lib/python3.6/site-packages (from pg8000) (1.1.0)\n",
      "Note: you may need to restart the kernel to use updated packages.\n"
     ]
    }
   ],
   "source": [
    "%pip install pg8000\n",
    "import config as cfg\n",
    "from sqlalchemy import create_engine\n",
    "engine = create_engine('postgresql+pg8000://' +\n",
    "                       cfg.postgresql['user'] + ':' +\n",
    "                       cfg.postgresql['passwd'] + '@' +\n",
    "                       cfg.postgresql['host'] + ':' +\n",
    "                       str(cfg.postgresql['port']) + '/' +\n",
    "                       cfg.postgresql['db'])\n",
    "connection = engine.connect()"
   ]
  },
  {
   "cell_type": "markdown",
   "metadata": {},
   "source": [
    "## Step 2: Creating and executing a SQL and storing the results into a DataFrame\n",
    "\n",
    "Using the SQLAlchemy connection from the previous stage execute a query to get average salary per title and store the results in a Pandas DataFrame called `df`."
   ]
  },
  {
   "cell_type": "code",
   "execution_count": 6,
   "metadata": {},
   "outputs": [
    {
     "data": {
      "text/html": [
       "<div>\n",
       "<style scoped>\n",
       "    .dataframe tbody tr th:only-of-type {\n",
       "        vertical-align: middle;\n",
       "    }\n",
       "\n",
       "    .dataframe tbody tr th {\n",
       "        vertical-align: top;\n",
       "    }\n",
       "\n",
       "    .dataframe thead th {\n",
       "        text-align: right;\n",
       "    }\n",
       "</style>\n",
       "<table border=\"1\" class=\"dataframe\">\n",
       "  <thead>\n",
       "    <tr style=\"text-align: right;\">\n",
       "      <th></th>\n",
       "      <th>avg_salary</th>\n",
       "    </tr>\n",
       "    <tr>\n",
       "      <th>title</th>\n",
       "      <th></th>\n",
       "    </tr>\n",
       "  </thead>\n",
       "  <tbody>\n",
       "    <tr>\n",
       "      <th>Assistant Engineer</th>\n",
       "      <td>48493.204786</td>\n",
       "    </tr>\n",
       "    <tr>\n",
       "      <th>Engineer</th>\n",
       "      <td>48539.781423</td>\n",
       "    </tr>\n",
       "    <tr>\n",
       "      <th>Manager</th>\n",
       "      <td>51531.041667</td>\n",
       "    </tr>\n",
       "    <tr>\n",
       "      <th>Senior Engineer</th>\n",
       "      <td>48506.751806</td>\n",
       "    </tr>\n",
       "    <tr>\n",
       "      <th>Senior Staff</th>\n",
       "      <td>58503.286614</td>\n",
       "    </tr>\n",
       "    <tr>\n",
       "      <th>Staff</th>\n",
       "      <td>58465.271904</td>\n",
       "    </tr>\n",
       "    <tr>\n",
       "      <th>Technique Leader</th>\n",
       "      <td>48580.505772</td>\n",
       "    </tr>\n",
       "  </tbody>\n",
       "</table>\n",
       "</div>"
      ],
      "text/plain": [
       "                      avg_salary\n",
       "title                           \n",
       "Assistant Engineer  48493.204786\n",
       "Engineer            48539.781423\n",
       "Manager             51531.041667\n",
       "Senior Engineer     48506.751806\n",
       "Senior Staff        58503.286614\n",
       "Staff               58465.271904\n",
       "Technique Leader    48580.505772"
      ]
     },
     "execution_count": 6,
     "metadata": {},
     "output_type": "execute_result"
    }
   ],
   "source": [
    "import pandas as pd\n",
    "\n",
    "sql = \"\"\"\n",
    "SELECT title, AVG(salary) AS avg_salary\n",
    "  FROM employees AS e\n",
    "       INNER JOIN salaries AS s\n",
    "       ON e.emp_no = s.emp_no\n",
    "   \n",
    "       INNER JOIN titles AS t\n",
    "       ON e.emp_no = t.emp_no\n",
    " GROUP BY title\n",
    " ORDER BY title ASC;\n",
    "\"\"\"\n",
    "\n",
    "df = pd.read_sql(sql, connection, index_col='title')\n",
    "df"
   ]
  },
  {
   "cell_type": "markdown",
   "metadata": {},
   "source": [
    "# Step 3: Plot Average Salary vs Title"
   ]
  },
  {
   "cell_type": "code",
   "execution_count": 18,
   "metadata": {},
   "outputs": [
    {
     "data": {
      "image/png": "[encoded data removed]",
      "text/plain": [
       "<Figure size 432x288 with 1 Axes>"
      ]
     },
     "metadata": {
      "needs_background": "light"
     },
     "output_type": "display_data"
    }
   ],
   "source": [
    "import matplotlib as mpl\n",
    "import matplotlib.pyplot as plt\n",
    "\n",
    "fig, ax = plt.subplots()\n",
    "df.plot(kind='bar',color='red', ax=ax)\n",
    "ax.set_title('Average Salary in USD vs Employee Title')\n",
    "ax.set_xlabel('Employee Title')\n",
    "ax.set_ylabel('Salary (USD)')\n",
    "ax.get_yaxis().set_major_formatter(\n",
    "    mpl.ticker.FuncFormatter(lambda y, p: format(int(y), ',')))\n",
    "ax.grid(which='major', linestyle=':', linewidth='0.5', color='black')\n",
    "ax.get_legend().remove()"
   ]
  },
  {
   "cell_type": "markdown",
   "metadata": {},
   "source": [
    "# Step 4: Observations\n",
    "\n",
    "It seems salaries data shows there are no significant differences when Senior Engineers, Engineers, and Assistant Engineers are compared using the average. This is a strong indication that either the data is bogus or there is a strong communist ideology in this company."
   ]
  }
 ],
 "metadata": {
  "kernelspec": {
   "display_name": "Python 3",
   "language": "python",
   "name": "python3"
  },
  "language_info": {
   "codemirror_mode": {
    "name": "ipython",
    "version": 3
   },
   "file_extension": ".py",
   "mimetype": "text/x-python",
   "name": "python",
   "nbconvert_exporter": "python",
   "pygments_lexer": "ipython3",
   "version": "3.7.3"
  }
 },
 "nbformat": 4,
 "nbformat_minor": 2
}
